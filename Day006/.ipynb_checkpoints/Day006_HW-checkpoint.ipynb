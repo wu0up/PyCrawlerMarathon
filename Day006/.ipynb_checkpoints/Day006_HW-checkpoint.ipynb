{
 "cells": [
  {
   "cell_type": "markdown",
   "metadata": {},
   "source": [
    "# API 資料串接 - 以 知乎 API 實作範例\n",
    "\n",
    "\n",
    "\n",
    "* 了解知乎 API 使用方式與回傳內容\n",
    "* 撰寫程式存取 API 且添加標頭\n",
    "\n",
    "\n"
   ]
  },
  {
   "cell_type": "markdown",
   "metadata": {},
   "source": [
    "## 作業目標\n",
    "\n",
    "* 根據範例提供的 API ，完成以下問題：\n",
    "\n",
    "    1. 取出知乎問題發問時間\n",
    "    2. 取出第一筆與最後一筆回答的時間\n"
   ]
  },
  {
   "cell_type": "markdown",
   "metadata": {},
   "source": [
    "### 1. 取出知乎問題發問時間"
   ]
  },
  {
   "cell_type": "code",
   "execution_count": 42,
   "metadata": {},
   "outputs": [],
   "source": [
    "import requests\n",
    "import json\n",
    "from datetime import datetime"
   ]
  },
  {
   "cell_type": "code",
   "execution_count": 91,
   "metadata": {},
   "outputs": [
    {
     "name": "stdout",
     "output_type": "stream",
     "text": [
      "the time of asking:  2017-02-06 22:10:29\n"
     ]
    }
   ],
   "source": [
    "# 1. 取出知乎問題發問時間\n",
    "# -*- encoding: utf8-*-\n",
    "\n",
    "headers = {\n",
    "\"accept\": \"text/html,application/xhtml+xml,application/xml;q=0.9,image/webp,image/apng,*/*;q=0.8,application/signed-exchange;v=b3\",\n",
    "# \"accept-encoding\": \"gzip, deflate, br\",\n",
    "'accept-language': \"zh-TW,zh;q=0.9,en-US;q=0.8,en;q=0.7,zh-CN;q=0.6\",\n",
    "\"cache-control\": \"max-age=0\",\n",
    "\"cookie\": '_zap=3d5ac3ac-6a8e-4033-b352-d95636aa3ffd; d_c0=\"AKAkMb4n4Q6PTjL0hnmmVCPjkujF31X87As=|1548408081\"; q_c1=ef399f66f03c46d486b779099623aac1|1550547759000|1550547759000; _xsrf=U0EyCD1I1ZLMhjK7LAWCKjWE59IVpS3s; __gads=ID=6a15f3da96aab29f:T=1553485710:S=ALNI_MZT1rbmijk0niSi6Py4JdC1MxjVtQ; Hm_lvt_98beee57fd2ef70ccdd5ca52b9740c49=1571489145,1572277900,1573896347,1573962494; Hm_lpvt_98beee57fd2ef70ccdd5ca52b9740c49=1573962494; tgw_l7_route=d9073c2db8fd446afafd830a80e5db8c',\n",
    "\"sec-fetch-mode\": 'navigate',\n",
    "\"sec-fetch-site\": \"none\",\n",
    "\"sec-fetch-user\": \"?1\",\n",
    "\"upgrade-insecure-requests\": \"1\",\n",
    "\"user-agent\": \"Mozilla/5.0 (Macintosh; Intel Mac OS X 10_13_6) AppleWebKit/537.36 (KHTML, like Gecko) Chrome/77.0.3865.120 Safari/537.36\"}\n",
    "data = requests.get('https://www.zhihu.com/api/v4/questions/55493026/answers', headers = headers)\n",
    "# data.encoding = 'gzip, deflate, br'\n",
    "response = json.loads(data.text)\n",
    "response.keys()\n",
    "timestamp = response['data'][0]['question']['created']\n",
    "dt_object = datetime.fromtimestamp(timestamp)\n",
    "print('the time of asking: ', dt_object)"
   ]
  },
  {
   "cell_type": "markdown",
   "metadata": {},
   "source": [
    "### 2. 取出第一筆與最後一筆回答的時間"
   ]
  },
  {
   "cell_type": "code",
   "execution_count": 93,
   "metadata": {},
   "outputs": [
    {
     "name": "stdout",
     "output_type": "stream",
     "text": [
      "the time of first answer: 2017-05-02 10:45:13, the time of last answer: 2019-10-29 11:07:06\n"
     ]
    }
   ],
   "source": [
    "# 2. 取出第一筆與最後一筆回答的時間\n",
    "\n",
    "len(response['data'])\n",
    "date_list=[]\n",
    "for i in range(len(response['data'])):\n",
    "    a = response[\"data\"][i]['created_time']\n",
    "    date_list.append(a)\n",
    "first_timestamp =datetime.fromtimestamp(min(date_list))\n",
    "last_timestamp = datetime.fromtimestamp(max(data_list))\n",
    "print('the time of first answer: {first}, the time of last answer: {last}'.format(\n",
    "first=first_timestamp, last = last_timestamp))"
   ]
  }
 ],
 "metadata": {
  "kernelspec": {
   "display_name": "Python 3",
   "language": "python",
   "name": "python3"
  },
  "language_info": {
   "codemirror_mode": {
    "name": "ipython",
    "version": 3
   },
   "file_extension": ".py",
   "mimetype": "text/x-python",
   "name": "python",
   "nbconvert_exporter": "python",
   "pygments_lexer": "ipython3",
   "version": "3.6.0"
  }
 },
 "nbformat": 4,
 "nbformat_minor": 2
}
