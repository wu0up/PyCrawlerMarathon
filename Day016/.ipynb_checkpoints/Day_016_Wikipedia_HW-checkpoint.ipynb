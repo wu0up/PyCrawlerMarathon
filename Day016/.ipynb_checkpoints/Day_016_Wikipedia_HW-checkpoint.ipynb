{
 "cells": [
  {
   "cell_type": "markdown",
   "metadata": {},
   "source": [
    "# Wikipedia爬蟲練習\n",
    "## 範例：練習是從Wikipedia中爬取文章。先定義一個搜尋的關鍵字，擷取該關鍵字詞的文章。"
   ]
  },
  {
   "cell_type": "code",
   "execution_count": 13,
   "metadata": {},
   "outputs": [],
   "source": [
    "import requests\n",
    "import re\n",
    "from bs4 import BeautifulSoup\n",
    "import os"
   ]
  },
  {
   "cell_type": "markdown",
   "metadata": {},
   "source": [
    "### 先定義一個我們想搜尋的字詞，並將它轉換成UTF-8編碼後的URL"
   ]
  },
  {
   "cell_type": "code",
   "execution_count": 8,
   "metadata": {},
   "outputs": [
    {
     "name": "stdout",
     "output_type": "stream",
     "text": [
      "來自深淵 (漫畫): %E4%BE%86%E8%87%AA%E6%B7%B1%E6%B7%B5 (%E6%BC%AB%E7%95%AB)\n",
      "/wiki/%E4%BE%86%E8%87%AA%E6%B7%B1%E6%B7%B5 (%E6%BC%AB%E7%95%AB)\n"
     ]
    }
   ],
   "source": [
    "input_keyword = \"來自深淵 (漫畫)\"  # 這裡可以自己定義有興趣的關鍵字\n",
    "\n",
    "utf8_url = repr(input_keyword.encode('UTF-8')).upper()  # 編碼成UTF-8並轉成大寫字元\n",
    "utf8_url = utf8_url.replace(\"\\\\X\", \"%\")                 # 用 '%' 取代 '\\X' \n",
    "print(\"%s: %s\" % (input_keyword, utf8_url[2:-1:1]))     # 擷取中間的編碼結果\n",
    "\n",
    "# 組成Wiki關鍵字搜尋的網址格式\n",
    "root_keyword_link = '/wiki/' + utf8_url[2:-1:1]\n",
    "print(root_keyword_link)"
   ]
  },
  {
   "cell_type": "markdown",
   "metadata": {},
   "source": [
    "### 範例1：送出關鍵字請求後，爬取該關鍵字的文章內容"
   ]
  },
  {
   "cell_type": "code",
   "execution_count": 9,
   "metadata": {},
   "outputs": [
    {
     "name": "stdout",
     "output_type": "stream",
     "text": [
      "《來自深淵》（日語：メイドインアビス，英語：MADE IN ABYSS）是奇幻題材的日本漫畫作品，由つくしあきひと創作，並於竹書房旗下漫畫網站《WEBコミックガンマ》上刊載。\n",
      "\n",
      "2016年12月21日，開設了動畫的官方網站與推特帳號，並宣布將會動畫化[3][4]。2017年3月20日，於「AnimeJapan 2017」的KADOKAWA攤位公布將於2017年7月於電視上播放[5][6]。2017年11月26日官方在推特上宣布續篇製作確定[7]。2018年3月19日官方宣布將製作劇場版總集篇前篇「メイドインアビス 旅立ちの夜明け」、後篇「メイドインアビス 放浪する黃昏」，預計於2019年1月上映[8]。\n",
      "\n",
      "於孤兒院生活的莉可，其願望是成為白笛，前往母親十年前前往的的深淵底層。某天莉可發現一個疑似來自深淵深處的機器人，將他取名為雷古，並發現不知因何原因而沒有記憶。為了收留雷古，莉可與好友替雷古編造孤兒身世，使他加入孤兒院。\n",
      "\n",
      "不久後，之前下潛的黑笛探窟家哈勃返回，並帶回殲滅卿萊莎的白笛與書信。在書信中莉可看到疑似關於雷古的介紹與一句留言「在奈落之底等待」，同時由於雷古想了解自己的來歷，雷古和莉可在西奇等朋友的協助下潛入了深淵。\n",
      "\n",
      "於深界二層莉可遭遇泣屍鳥襲擊，所幸雷古覺醒火葬砲後救回，之後抵達監視基地。莉可見到駐守於監視基地的白笛「不動卿奧森」後得知身世，兩人被奧森測試後認為太過弱小而給與了讓他們培養默契的「生存訓練」。訓練完成後奧森將遺物\"無盡鎚\"贈與莉可，最後繼續下潛。\n",
      "\n",
      "到了深界四層之時，莉可受到穿彈獸攻擊而中毒，為了逃離雷古將莉可垂直往上帶，造成莉可又受詛咒陷入昏迷。此時娜娜奇現身協助治療莉可並將其帶回娜娜奇的基地。在基地遇到了娜娜奇的生骸朋友米蒂。治療莉可後娜娜奇告知深淵詛咒的運作狀況，並引導雷古達成對穿彈獸的復仇戰。在復仇戰中娜娜奇得知雷古的武器「火葬砲」，並請求雷古殺死米蒂。娜娜奇告知雷古自身與米蒂過往，敘述米蒂因上升負荷實驗而成為沒有意識卻死不了的怪物一事，唯有以高功率的武器一次性燒毀才不會復原。雷古殺死米蒂後莉可清醒，邀請娜娜奇加入隊伍後繼續往下探險[9]。\n",
      "\n",
      "之後來到了深界五層的前線基地，但其旅程因為缺乏啟動下潛用遺物的「生命迴響之石」（即白笛）而中斷，一行人於是決定在前線基地中留宿。半夜莉可醒來，發現娜娜奇與雷古均離開。因此與黎明卿的「女兒」普魯修卡兩人一起尋找同時成為朋友。於此同時娜娜奇欲與黎明卿談判卻得知因為雷古乃是稀有的個體因此被當作實驗品。雷古清醒後發現自己被脫光綑綁固定，隨後右手被切下。娜娜奇得知消息後趕到實驗室卻被祈手們阻擋，最後莉可與普魯修卡到達，吸引祈手注意力使雷古能成功逃出。在逃出後設下陷阱重創前來追捕的祈手一行後與黎明卿對決並成功將其擊殺，然而卻被普魯修卡見到黎明卿的屍體。此時其中一名祈手戴上黎明卿面具後自稱黎明卿，輕鬆將雷古擊倒帶著普魯修卡離去並將普魯修卡製成彈藥包。一番討論後決議雷古潛入前線基地底部偷取能源，同時兩人趁機去取回雷古手臂並拖延時間，歷經一番波折後成功擊敗黎明卿並使其放棄阻撓莉可一行下潛。另外在普魯修卡彈藥包耗盡後因為普魯修卡衷心期盼能與莉可一起在深淵中探險，而轉化為屬於莉可的生命回響之石。\n",
      "\n",
      "莉可一行人最後在黎明卿的送行之下啟動了前往深界六層的祭壇，並開始了繼續往下探險的旅程並前往第六層來回無去之都的生駭村時普魯修卡被偷走，找回並交給寶石工匠珀利永將氆氌修卡雕琢後，得知娜娜奇將自己賣掉而買下了米蒂(與雷古殺死的米蒂為不同人但同種生物)，換回娜娜奇必須是人類小孩或是「更高的價值」法普塔身體的一部份去換回，於是雷古前去在和法普塔對話時知道自己在未見到莉可時就已經叫雷古了，而法普塔拔下自己的一隻手和耳朵交給雷古，而莉可在生駭村的「目之深」遇見並且救出的為前三賢的維克進而了解了生駭村的來歷……[10]。\n",
      "\n",
      "自深淵向上返回超過10公尺高時，探窟家會遭遇因深淵「力場」而對人體（集中在大腦、心臟、脊髓等維持生命的關鍵部位）造成的作用現象，下潛越深，上升負荷越大，可藉由遊走力場較弱處或是彈藥包來迴避。通常來說，離縱穴越遠力場越弱。\n",
      "\n",
      "探窟家的笛是通行證，也是身分的證明，一般也常以笛的顏色代指探險者的級別。\n",
      "\n",
      "深淵內發現，以當今人類的科技所無法製作的特殊物品。\n",
      "\n",
      "指承受了自深界六層返回的詛咒而未死亡，喪失人性、不成人形，永遠不能恢復原樣的悲慘者。本意為「窮途末路者」，如果被探窟家發現，會將其殺死，只拿走身上的遺物。                              \n",
      "\n",
      "在轉移詛咒實驗成功後發明的產物，將人類多餘的器官移除，只留下大腦，脊髓，以及部分腸道，並且用皮膚包裹住後放入代替骨骼的一個盒子中，並且灌注藥液來維持生命痕跡以及降低神經的反應讓詛咒對彈藥包有較小的影響。\n",
      "\n",
      "彈藥包為可攜式詛咒轉移器，裝備在波多爾多背後的暗箱，基於波多爾多已經不被判定為人所以不能用祈手製作彈藥包。\n",
      "\n",
      "由漫畫家つくしあきひと創作的漫畫，最初於漫畫網站《WEBコミックガンマ》刊載[11]。2013年7月31日推出單行本，至今共有8卷。竹書房授權布卡漫畫刊載簡體中文電子版[12]。\n",
      "\n",
      "2016年12月21日，《MADE IN ABYSS》開設動畫官方網站與Twitter帳號，並宣布將會動畫化[3][4]。2017年3月20日，於「AnimeJapan 2017」的KADOKAWA攤位公布將於2017年7月於電視上播放[5][6]。\n",
      "\n",
      "動畫公司Kinema Citrus將負責動畫製作，並由小島正幸擔任導演，倉田英之負責劇本統籌，人物設定由黃瀨和哉負責[4]。\n",
      "\n",
      "台灣分級（依照巴哈姆特分級）10、11、13集為限制級；其餘為輔15級。\n",
      "\n"
     ]
    }
   ],
   "source": [
    "# 模擬封包的標頭\n",
    "headers = {\n",
    "    'authority': 'zh.wikipedia.org',\n",
    "    'method': 'GET',\n",
    "    'path': '/wiki/' + root_keyword_link,\n",
    "    'scheme': 'https',\n",
    "    'accept': 'text/html,application/xhtml+xml,application/xml;q=0.9,image/webp,image/apng,*/*;q=0.8,application/signed-exchange;v=b3',\n",
    "    'accept-encoding': 'gzip, deflate, br',\n",
    "    'accept-language': 'zh-TW,zh;q=0.9,en-US;q=0.8,en;q=0.7,zh-CN;q=0.6',\n",
    "    'cookie': 'GeoIP=TW:TPE:Taipei:25.05:121.53:v4; TBLkisOn=0; mwPhp7Seed=8b8; WMF-Last-Access-Global=04-Jun-2019; WMF-Last-Access=04-Jun-2019',\n",
    "    'dnt': '1',\n",
    "    #'if-modified-since': 'Tue, 04 Jun 2019 12:03:22 GMT',\n",
    "    'referer': 'https://zh.wikipedia.org/wiki/Wikipedia:%E9%A6%96%E9%A1%B5',\n",
    "    'upgrade-insecure-requests': '1',\n",
    "    'user-agent': 'Mozilla/5.0 (Windows NT 10.0; Win64; x64) AppleWebKit/537.36 (KHTML, like Gecko) Chrome/74.0.3729.169 Safari/537.36'\n",
    "}    \n",
    "\n",
    "url = 'https://zh.wikipedia.org' + root_keyword_link  # 組合關鍵字查詢URL\n",
    "resp = requests.get(url, headers=headers)\n",
    "resp.encoding = 'utf-8'\n",
    "\n",
    "html = BeautifulSoup(resp.text, \"lxml\")\n",
    "content = html.find(name='div', attrs={'id':'mw-content-text'}).find_all(name='p') #使用兩層find, find_all\n",
    "\n",
    "#\n",
    "# 解析回傳資料，並萃取文章內容\n",
    "#\n",
    "for paragraph in content:\n",
    "    print(paragraph.get_text())\n"
   ]
  },
  {
   "cell_type": "markdown",
   "metadata": {},
   "source": [
    "### 範例2：從爬取的文章內容中，擷取出有外部連結的關鍵字。這些關鍵字在文章中是以藍色字體顯示，會連到外部的網頁，並解釋其內容。"
   ]
  },
  {
   "cell_type": "code",
   "execution_count": 10,
   "metadata": {},
   "outputs": [
    {
     "name": "stdout",
     "output_type": "stream",
     "text": [
      "外部連結: [奇幻題材] /wiki/%E5%A5%87%E5%B9%BB%E4%BD%9C%E5%93%81\n",
      "外部連結: [日本漫畫] /wiki/%E6%97%A5%E6%9C%AC%E6%BC%AB%E7%95%AB\n",
      "外部連結: [つくしあきひと] /wiki/%E5%9C%9F%E7%AD%86%E7%AB%A0%E4%BA%BA\n",
      "外部連結: [竹書房] /wiki/%E7%AB%B9%E6%9B%B8%E6%88%BF\n",
      "外部連結: [推特] /wiki/Twitter\n",
      "外部連結: [AnimeJapan 2017] /wiki/AnimeJapan\n",
      "外部連結: [KADOKAWA] /wiki/KADOKAWA\n",
      "外部連結: [雷古] /wiki/%E4%BE%86%E8%87%AA%E6%B7%B1%E6%B7%B5%E8%A7%92%E8%89%B2%E5%88%97%E8%A1%A8#雷古\n",
      "外部連結: [哈勃] /wiki/%E4%BE%86%E8%87%AA%E6%B7%B1%E6%B7%B5%E8%A7%92%E8%89%B2%E5%88%97%E8%A1%A8#哈伯\n",
      "外部連結: [殲滅卿萊莎] /wiki/%E4%BE%86%E8%87%AA%E6%B7%B1%E6%B7%B5%E8%A7%92%E8%89%B2%E5%88%97%E8%A1%A8#萊莎\n",
      "外部連結: [西奇] /wiki/%E4%BE%86%E8%87%AA%E6%B7%B1%E6%B7%B5%E8%A7%92%E8%89%B2%E5%88%97%E8%A1%A8#西奇\n",
      "外部連結: [不動卿奧森] /wiki/%E4%BE%86%E8%87%AA%E6%B7%B1%E6%B7%B5%E8%A7%92%E8%89%B2%E5%88%97%E8%A1%A8#奧森\n",
      "外部連結: [穿彈獸] /wiki/%E4%BE%86%E8%87%AA%E6%B7%B1%E6%B7%B5%E8%A7%92%E8%89%B2%E5%88%97%E8%A1%A8#穿彈獸\n",
      "外部連結: [娜娜奇] /wiki/%E5%A8%9C%E5%A8%9C%E5%A5%87\n",
      "外部連結: [米蒂] /wiki/%E7%B1%B3%E8%92%82\n",
      "外部連結: [普魯修卡] /wiki/%E4%BE%86%E8%87%AA%E6%B7%B1%E6%B7%B5%E8%A7%92%E8%89%B2%E5%88%97%E8%A1%A8#普魯修卡\n",
      "外部連結: [單行本] /wiki/%E5%8D%95%E8%A1%8C%E6%9C%AC\n",
      "外部連結: [布卡漫畫] /wiki/%E5%B8%83%E5%8D%A1%E6%BC%AB%E7%95%AB\n",
      "外部連結: [AnimeJapan 2017] /wiki/AnimeJapan\n",
      "外部連結: [KADOKAWA] /wiki/KADOKAWA\n",
      "外部連結: [Kinema Citrus] /wiki/Kinema_Citrus\n",
      "外部連結: [小島正幸] /wiki/%E5%B0%8F%E5%B3%B6%E6%AD%A3%E5%B9%B8\n",
      "外部連結: [倉田英之] /wiki/%E5%80%89%E7%94%B0%E8%8B%B1%E4%B9%8B\n",
      "外部連結: [黃瀨和哉] /wiki/%E9%BB%83%E7%80%A8%E5%92%8C%E5%93%89\n",
      "外部連結: [巴哈姆特] /wiki/%E5%B7%B4%E5%93%88%E5%A7%86%E7%89%B9%E9%9B%BB%E7%8E%A9%E8%B3%87%E8%A8%8A%E7%AB%99\n"
     ]
    }
   ],
   "source": [
    "for ext_link in content:\n",
    "    a_tag = ext_link.find_all('a', href=re.compile(\"^(/wiki/)((?!;)\\S)*$\"))\n",
    "    if len(a_tag) > 0:\n",
    "        for link_string in a_tag:\n",
    "            a_link = link_string[\"href\"]       # 外部連結的網址\n",
    "            a_keyword = link_string.get_text()  # 外部連結的中文名稱\n",
    "            print(\"外部連結: [%s] %s\" % (a_keyword, a_link))"
   ]
  },
  {
   "cell_type": "markdown",
   "metadata": {},
   "source": [
    "## 作業：接下來定義一個爬蟲函數，這個函數的主要工作為：\n",
    "### (1) 爬取當前關鍵字的解釋，並存入檔案(因為文章內容太多會佔滿整個頁面，所以存程檔案，方便後續檢視)\n",
    "### (2) 萃取出當前關鍵字所引用的外部連結，當作新的查詢關鍵字\n",
    "### (3) 把第(2)擷取到的關鍵字當作新的關鍵字，回到第(1)步，爬取新的關鍵字解釋。"
   ]
  },
  {
   "cell_type": "code",
   "execution_count": 77,
   "metadata": {},
   "outputs": [],
   "source": [
    "def WikiArticle(key_word_link, key_word, recursive):\n",
    "    \n",
    "    if (recursive <= max_recursive_depth):\n",
    "        print(\"遞迴層[%d] - %s (%s)\" % (recursive, key_word_link, key_word))\n",
    "        \n",
    "        # 模擬封包的標頭\n",
    "        headers = {\n",
    "            'authority': 'zh.wikipedia.org',\n",
    "            'method': 'GET',\n",
    "            'path': '/wiki/' + key_word_link,\n",
    "            #有些連結是連到某個頁面的項目，若直接將整個link(包含#)帶入path, headers會出錯\n",
    "            'scheme': 'https',\n",
    "            'accept': 'text/html,application/xhtml+xml,application/xml;q=0.9,image/webp,image/apng,*/*;q=0.8,application/signed-exchange;v=b3',\n",
    "            'accept-encoding': 'gzip, deflate, br',\n",
    "            'accept-language': 'zh-TW,zh;q=0.9,en-US;q=0.8,en;q=0.7,zh-CN;q=0.6',\n",
    "            'cookie': 'GeoIP=TW:TPE:Taipei:25.05:121.53:v4; TBLkisOn=0; mwPhp7Seed=8b8; WMF-Last-Access-Global=04-Jun-2019; WMF-Last-Access=04-Jun-2019',\n",
    "            'dnt': '1',\n",
    "            #'if-modified-since': 'Tue, 04 Jun 2019 12:03:22 GMT',\n",
    "            'referer': 'https://zh.wikipedia.org/wiki/Wikipedia:%E9%A6%96%E9%A1%B5',\n",
    "            'upgrade-insecure-requests': '1',\n",
    "            'user-agent': 'Mozilla/5.0 (Windows NT 10.0; Win64; x64) AppleWebKit/537.36 (KHTML, like Gecko) Chrome/74.0.3729.169 Safari/537.36'\n",
    "        }    \n",
    "\n",
    "        url = 'https://zh.wikipedia.org' + key_word_link  # 組合關鍵字查詢URL\n",
    "        resp = requests.get(url)\n",
    "\n",
    "\n",
    "        resp.encoding = 'utf-8'\n",
    "\n",
    "        html = BeautifulSoup(resp.text, \"lxml\")\n",
    "        content = html.find(name='div', attrs={'id':'mw-content-text'}).find_all(name='p')\n",
    "        #\n",
    "        # Part 1: 請參考範例1，爬取當前關鍵字的文章內容。\n",
    "        #         因為內容太多，我們把它寫入檔案，並以關鍵字作為檔案名稱，以便稍後查閱內容。\n",
    "        #         請先建立一個名為\"WikiArticle\"的資料夾，爬取到的文章內容會放在這個資料夾底下。\n",
    "        #\n",
    "        #step 1. 資料夾名稱\n",
    "        output_dir = 'WikiArticle'\n",
    "        #step 2. 確認資料夾是否存在\n",
    "        if not os.path.exists(output_dir):\n",
    "            os.makedirs(output_dir)\n",
    "        para_lst =[]\n",
    "        for paragraph in content:\n",
    "            keyword_savename = '{outdir}/{file_name}.txt'.format(\n",
    "                outdir=output_dir, file_name=key_word)\n",
    "            para_lst.append(paragraph.get_text())\n",
    "        with open(keyword_savename, \"w\") as f:\n",
    "            f.writelines(para_lst)\n",
    "        print('Save keyword {}'.format(keyword_savename))\n",
    "        #\n",
    "        # Part 2: 請參考範例2，萃取出本篇文章中所延伸引用的外部連結，並儲存在external_link_dict\n",
    "        #空的dictionary\n",
    "        external_link_dict = dict({})\n",
    "        for ext_link in content:\n",
    "            a_tag = ext_link.find_all('a', href=re.compile(\"^(/wiki/)((?!;)\\S)*$\"))\n",
    "            if len(a_tag) > 0:\n",
    "                for link_string in a_tag:\n",
    "                    a_link = link_string[\"href\"]       # 外部連結的網址\n",
    "                    a_keyword = link_string.get_text()  # 外部連結的中文名稱\n",
    "                    #將不同的variable存到key and values\n",
    "                    external_link_dict[a_keyword]=a_link\n",
    "                    \n",
    "        #\n",
    "        # Part 3: 將Part 2所收集的外部連結，當作新的關鍵字，繼續迭代深入爬蟲\n",
    "        #\n",
    "        if (len(external_link_dict) > 0):\n",
    "            \n",
    "            recursive = recursive + 1  # 遞迴深度加1\n",
    "            \n",
    "            for k, v in external_link_dict.items():\n",
    "                WikiArticle(v, k, recursive)  # 再次呼叫同樣的函數，執行同樣的流程\n",
    "                "
   ]
  },
  {
   "cell_type": "markdown",
   "metadata": {},
   "source": [
    "### 執行前個步驟定義好的爬蟲主程式"
   ]
  },
  {
   "cell_type": "code",
   "execution_count": 78,
   "metadata": {},
   "outputs": [
    {
     "name": "stdout",
     "output_type": "stream",
     "text": [
      "遞迴層[0] - /wiki/%E4%BE%86%E8%87%AA%E6%B7%B1%E6%B7%B5 (%E6%BC%AB%E7%95%AB) (來自深淵 (漫畫))\n",
      "Save keyword WikiArticle/來自深淵 (漫畫).txt\n",
      "遞迴層[1] - /wiki/%E5%A5%87%E5%B9%BB%E4%BD%9C%E5%93%81 (奇幻題材)\n",
      "Save keyword WikiArticle/奇幻題材.txt\n",
      "遞迴層[1] - /wiki/%E6%97%A5%E6%9C%AC%E6%BC%AB%E7%95%AB (日本漫畫)\n",
      "Save keyword WikiArticle/日本漫畫.txt\n",
      "遞迴層[1] - /wiki/%E5%9C%9F%E7%AD%86%E7%AB%A0%E4%BA%BA (つくしあきひと)\n",
      "Save keyword WikiArticle/つくしあきひと.txt\n",
      "遞迴層[1] - /wiki/%E7%AB%B9%E6%9B%B8%E6%88%BF (竹書房)\n",
      "Save keyword WikiArticle/竹書房.txt\n",
      "遞迴層[1] - /wiki/Twitter (推特)\n",
      "Save keyword WikiArticle/推特.txt\n",
      "遞迴層[1] - /wiki/AnimeJapan (AnimeJapan 2017)\n",
      "Save keyword WikiArticle/AnimeJapan 2017.txt\n",
      "遞迴層[1] - /wiki/KADOKAWA (KADOKAWA)\n",
      "Save keyword WikiArticle/KADOKAWA.txt\n",
      "遞迴層[1] - /wiki/%E4%BE%86%E8%87%AA%E6%B7%B1%E6%B7%B5%E8%A7%92%E8%89%B2%E5%88%97%E8%A1%A8#雷古 (雷古)\n",
      "Save keyword WikiArticle/雷古.txt\n",
      "遞迴層[1] - /wiki/%E4%BE%86%E8%87%AA%E6%B7%B1%E6%B7%B5%E8%A7%92%E8%89%B2%E5%88%97%E8%A1%A8#哈伯 (哈勃)\n",
      "Save keyword WikiArticle/哈勃.txt\n",
      "遞迴層[1] - /wiki/%E4%BE%86%E8%87%AA%E6%B7%B1%E6%B7%B5%E8%A7%92%E8%89%B2%E5%88%97%E8%A1%A8#萊莎 (殲滅卿萊莎)\n",
      "Save keyword WikiArticle/殲滅卿萊莎.txt\n",
      "遞迴層[1] - /wiki/%E4%BE%86%E8%87%AA%E6%B7%B1%E6%B7%B5%E8%A7%92%E8%89%B2%E5%88%97%E8%A1%A8#西奇 (西奇)\n",
      "Save keyword WikiArticle/西奇.txt\n",
      "遞迴層[1] - /wiki/%E4%BE%86%E8%87%AA%E6%B7%B1%E6%B7%B5%E8%A7%92%E8%89%B2%E5%88%97%E8%A1%A8#奧森 (不動卿奧森)\n",
      "Save keyword WikiArticle/不動卿奧森.txt\n",
      "遞迴層[1] - /wiki/%E4%BE%86%E8%87%AA%E6%B7%B1%E6%B7%B5%E8%A7%92%E8%89%B2%E5%88%97%E8%A1%A8#穿彈獸 (穿彈獸)\n",
      "Save keyword WikiArticle/穿彈獸.txt\n",
      "遞迴層[1] - /wiki/%E5%A8%9C%E5%A8%9C%E5%A5%87 (娜娜奇)\n",
      "Save keyword WikiArticle/娜娜奇.txt\n",
      "遞迴層[1] - /wiki/%E7%B1%B3%E8%92%82 (米蒂)\n",
      "Save keyword WikiArticle/米蒂.txt\n",
      "遞迴層[1] - /wiki/%E4%BE%86%E8%87%AA%E6%B7%B1%E6%B7%B5%E8%A7%92%E8%89%B2%E5%88%97%E8%A1%A8#普魯修卡 (普魯修卡)\n",
      "Save keyword WikiArticle/普魯修卡.txt\n",
      "遞迴層[1] - /wiki/%E5%8D%95%E8%A1%8C%E6%9C%AC (單行本)\n",
      "Save keyword WikiArticle/單行本.txt\n",
      "遞迴層[1] - /wiki/%E5%B8%83%E5%8D%A1%E6%BC%AB%E7%95%AB (布卡漫畫)\n",
      "Save keyword WikiArticle/布卡漫畫.txt\n",
      "遞迴層[1] - /wiki/Kinema_Citrus (Kinema Citrus)\n",
      "Save keyword WikiArticle/Kinema Citrus.txt\n",
      "遞迴層[1] - /wiki/%E5%B0%8F%E5%B3%B6%E6%AD%A3%E5%B9%B8 (小島正幸)\n",
      "Save keyword WikiArticle/小島正幸.txt\n",
      "遞迴層[1] - /wiki/%E5%80%89%E7%94%B0%E8%8B%B1%E4%B9%8B (倉田英之)\n",
      "Save keyword WikiArticle/倉田英之.txt\n",
      "遞迴層[1] - /wiki/%E9%BB%83%E7%80%A8%E5%92%8C%E5%93%89 (黃瀨和哉)\n",
      "Save keyword WikiArticle/黃瀨和哉.txt\n",
      "遞迴層[1] - /wiki/%E5%B7%B4%E5%93%88%E5%A7%86%E7%89%B9%E9%9B%BB%E7%8E%A9%E8%B3%87%E8%A8%8A%E7%AB%99 (巴哈姆特)\n",
      "Save keyword WikiArticle/巴哈姆特.txt\n"
     ]
    }
   ],
   "source": [
    "# 定義爬取的遞迴深度。深度不要訂太深，否則會爬很久。\n",
    "#只爬當個頁面的keyword, 而沒有爬再下一層\n",
    "max_recursive_depth = 1\n",
    "\n",
    "WikiArticle(root_keyword_link, input_keyword, 0)"
   ]
  },
  {
   "cell_type": "code",
   "execution_count": null,
   "metadata": {},
   "outputs": [],
   "source": []
  }
 ],
 "metadata": {
  "kernelspec": {
   "display_name": "Python 3",
   "language": "python",
   "name": "python3"
  },
  "language_info": {
   "codemirror_mode": {
    "name": "ipython",
    "version": 3
   },
   "file_extension": ".py",
   "mimetype": "text/x-python",
   "name": "python",
   "nbconvert_exporter": "python",
   "pygments_lexer": "ipython3",
   "version": "3.6.0"
  }
 },
 "nbformat": 4,
 "nbformat_minor": 2
}
