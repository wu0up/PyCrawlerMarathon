{
 "cells": [
  {
   "cell_type": "markdown",
   "metadata": {},
   "source": [
    "# API 資料串接 - 以 Dcard API 實作範例\n",
    "\n",
    "* 利用 urllib 套件的 urlretrieve 方法下載檔案\n",
    "* 了解 Python File I/O 讀檔、寫檔的用法\n",
    "* 能用運用資源管理器 With Statement 優化寫法"
   ]
  },
  {
   "cell_type": "markdown",
   "metadata": {},
   "source": [
    "## 作業目標\n",
    "\n",
    "* 請利用 API: https://www.dcard.tw/_api/forums/pet/posts?popular=true 回答下列問題：\n",
    "\n",
    "1. 這個 API 一次會回傳幾筆資料？每一筆資料包含哪些欄位？\n",
    "2. 取出每一筆資料的「標題」、「貼文時間」、「留言人數」、「按讚人數」\n",
    "3. 計算熱門/非熱門文章的「平均留言人數」與「平均按讚人數」"
   ]
  },
  {
   "cell_type": "code",
   "execution_count": 45,
   "metadata": {},
   "outputs": [],
   "source": [
    "import requests\n",
    "import json\n",
    "from statistics import mean \n",
    "import matplotlib.pyplot as plt\n",
    "import numpy as np"
   ]
  },
  {
   "cell_type": "code",
   "execution_count": 38,
   "metadata": {},
   "outputs": [],
   "source": [
    "url_popular = 'https://www.dcard.tw/_api/forums/pet/posts?popular=true'\n",
    "url_non_popular = 'https://www.dcard.tw/_api/forums/pet/posts?popular=false'\n",
    "r_popular = requests.get(url_popular)\n",
    "r_non_popular = requests.get(url_non_popular)\n",
    "data_popular =json.loads(r_popular.text)\n",
    "data_non_popular = json.loads(r_non_popular.text)"
   ]
  },
  {
   "cell_type": "code",
   "execution_count": 39,
   "metadata": {},
   "outputs": [
    {
     "name": "stdout",
     "output_type": "stream",
     "text": [
      "資料筆數 30 ，欄位 ['id', 'title', 'excerpt', 'anonymousSchool', 'anonymousDepartment', 'pinned', 'forumId', 'replyId', 'createdAt', 'updatedAt', 'commentCount', 'likeCount', 'withNickname', 'tags', 'topics', 'meta', 'forumName', 'forumAlias', 'gender', 'school', 'department', 'replyTitle', 'mediaMeta', 'reactions', 'hidden', 'customStyle', 'isSuspiciousAccount', 'layout', 'withImages', 'withVideos', 'media', 'reportReasonText', 'postAvatar']\n"
     ]
    }
   ],
   "source": [
    "# 1. 這個 API 一次會回傳幾筆資料？每一筆資料包含哪些欄位？\n",
    "\n",
    "def data_num_col(data):\n",
    "    data_num = len(data)\n",
    "    column =[]\n",
    "    for key, value in data[0].items() :\n",
    "        column.append(key)\n",
    "    print('資料筆數 '+str(data_num), '，欄位 '+str(column))\n",
    "\n",
    "data_num_col(data_popular)"
   ]
  },
  {
   "cell_type": "code",
   "execution_count": 40,
   "metadata": {},
   "outputs": [
    {
     "data": {
      "text/plain": [
       "[['#更。不要被薩摩耶給騙了！', '2019-11-29T00:25:38.826Z', 88, 4102],\n",
       " ['充滿柴柴的人生❤️', '2019-11-28T07:19:45.391Z', 25, 778],\n",
       " ['#圖多 偷看🐹上廁所......', '2019-11-28T13:44:17.224Z', 24, 776],\n",
       " ['請問這樣算不算虐貓', '2019-11-28T09:04:40.825Z', 86, 762],\n",
       " ['兄弟貓\\U0001f9d0', '2019-11-28T12:25:11.285Z', 12, 263],\n",
       " ['#圖 柴柴 你能懂我的明白嗎？', '2019-11-28T16:22:31.895Z', 8, 178],\n",
       " ['沒有責任感根本沒資格養寵物', '2019-11-28T11:47:21.176Z', 20, 162],\n",
       " ['紙袋破壞王🏆', '2019-11-28T09:43:33.709Z', 4, 114],\n",
       " ['我竟然被我家ㄉ狗鄙視！', '2019-11-28T16:51:07.018Z', 4, 71],\n",
       " ['🐰誰說兔子不能碰水！兔子❤️海灘', '2019-11-29T07:34:46.328Z', 9, 58],\n",
       " ['天冷怎麼辦ಥ_ಥ #柯基#圖多', '2019-11-28T15:47:50.708Z', 0, 57],\n",
       " ['貓咪教妳皮笑肉不笑🙂', '2019-11-28T11:55:17.571Z', 2, 48],\n",
       " ['#貓 #圖 我懷疑我家貓咪根本不覺得自己是貓咪', '2019-11-29T15:01:23.745Z', 7, 40],\n",
       " ['#募款 #貓 愛在街角，守護浪貓', '2019-11-28T07:11:04.741Z', 1, 33],\n",
       " ['吸貓治百病', '2019-11-29T06:53:05.300Z', 3, 31],\n",
       " ['你也知道要坐那', '2019-11-28T17:00:22.755Z', 3, 31],\n",
       " ['就是你！！！我的菜！！！', '2019-11-29T03:10:51.060Z', 0, 28],\n",
       " ['我養了一隻樹懶\\U0001f9a5', '2019-11-28T12:18:21.317Z', 6, 25],\n",
       " ['請問有人的柴犬走失嗎？(已找到失主，謝謝大家的幫忙🙏）', '2019-11-28T14:57:09.825Z', 3, 23],\n",
       " ['有愛的假兄弟', '2019-11-29T04:09:24.480Z', 0, 22],\n",
       " ['我家柴犬一系列照片', '2019-11-29T05:02:04.820Z', 3, 20],\n",
       " ['高以翔的療癒系狗狗theo', '2019-11-29T13:52:33.150Z', 0, 19],\n",
       " ['囤貓囤起來😻/圖多文長', '2019-11-29T03:41:19.070Z', 2, 16],\n",
       " ['限動裡的小三線們', '2019-11-29T04:00:40.448Z', 4, 12],\n",
       " ['自己的主子最可愛', '2019-11-29T05:09:30.489Z', 1, 9],\n",
       " ['問貓貓的帳號', '2019-11-28T11:30:50.129Z', 1, 9],\n",
       " ['台北中正區臨沂街 馬爾濟斯走丟', '2019-11-29T10:05:26.773Z', 4, 8],\n",
       " ['發現新品種貓咪！', '2019-11-28T12:22:13.105Z', 1, 8],\n",
       " ['挑戰極限的塞食物(๑˙❥˙๑)', '2019-11-28T07:55:21.256Z', 8, 8],\n",
       " ['貓男友的拍照技術', '2019-11-29T13:28:45.211Z', 2, 7]]"
      ]
     },
     "execution_count": 40,
     "metadata": {},
     "output_type": "execute_result"
    }
   ],
   "source": [
    "# 2. 取出每一筆資料的「標題」、「貼文時間」、「留言人數」、「按讚人數」\n",
    "\n",
    "def data_info(data):\n",
    "    data_info =[]\n",
    "\n",
    "    for i in range(len(data)):\n",
    "        vars()['n'+str(i)] = [data[i]['title'], data[i]['createdAt'], data[i]['commentCount'], data[i]['likeCount']]\n",
    "        data_info.append(vars()['n'+str(i)])\n",
    "    return data_info\n",
    "\n",
    "data_info(data_popular)"
   ]
  },
  {
   "cell_type": "code",
   "execution_count": 51,
   "metadata": {},
   "outputs": [
    {
     "name": "stdout",
     "output_type": "stream",
     "text": [
      "熱門文章\n",
      "average comment count:  11.033  average like count:  257.267\n",
      "\n",
      "非熱門文章\n",
      "average comment count:  3.567  average like count:  7.3\n"
     ]
    },
    {
     "data": {
      "image/png": "[encoded data removed]",
      "text/plain": [
       "<Figure size 432x288 with 1 Axes>"
      ]
     },
     "metadata": {
      "needs_background": "light"
     },
     "output_type": "display_data"
    }
   ],
   "source": [
    "# 3. 計算熱門/非熱門文章的「平均留言人數」與「平均按讚人數」\n",
    "\n",
    "def data_count(data):\n",
    "    commentCount =[]\n",
    "    likeCount =[]\n",
    "\n",
    "    for i in range(len(data)):\n",
    "        vars()['c'+str(i)] = data[i]['commentCount']\n",
    "        vars()['l'+str(i)] = data[i][\"likeCount\"]\n",
    "        commentCount.append(vars()['c'+str(i)])\n",
    "        likeCount.append(vars()['l'+str(i)])\n",
    "        avg_comment = round(mean(commentCount), 3)\n",
    "        avg_like =round(mean(likeCount), 3)\n",
    "    return (avg_comment, avg_like)\n",
    "\n",
    "mean_popular = (11.033, 257.267)\n",
    "mean_non_popular =data_count(data_non_popular)\n",
    "print('熱門文章')\n",
    "print('average comment count: ', data_count(data_popular)[0], ' average like count: ', data_count(data_popular)[1])\n",
    "print( )\n",
    "print('非熱門文章')\n",
    "print('average comment count: ', data_count(data_non_popular)[0], ' average like count: ', data_count(data_non_popular)[1])\n",
    "\n",
    "fig, ax = plt.subplots()\n",
    "index = np.arange(2)\n",
    "bar_width = 0.35\n",
    "opacity = 0.8\n",
    "\n",
    "rects1 = plt.bar(index, mean_popular, bar_width,\n",
    "alpha=opacity,\n",
    "color='b',\n",
    "label='Popular article')\n",
    "\n",
    "rects2 = plt.bar(index + bar_width, mean_non_popular, bar_width,\n",
    "alpha=opacity,\n",
    "color='g',\n",
    "label='Unnpopular article')\n",
    "\n",
    "plt.ylabel('means')\n",
    "plt.title('Popular article VS Unnpopular')\n",
    "plt.xticks(index + bar_width, ('average comment count', 'average like count'))\n",
    "plt.legend()\n",
    "\n",
    "plt.tight_layout()\n",
    "plt.show()"
   ]
  },
  {
   "cell_type": "code",
   "execution_count": null,
   "metadata": {},
   "outputs": [],
   "source": []
  }
 ],
 "metadata": {
  "kernelspec": {
   "display_name": "Python 3",
   "language": "python",
   "name": "python3"
  },
  "language_info": {
   "codemirror_mode": {
    "name": "ipython",
    "version": 3
   },
   "file_extension": ".py",
   "mimetype": "text/x-python",
   "name": "python",
   "nbconvert_exporter": "python",
   "pygments_lexer": "ipython3",
   "version": "3.6.0"
  }
 },
 "nbformat": 4,
 "nbformat_minor": 2
}
