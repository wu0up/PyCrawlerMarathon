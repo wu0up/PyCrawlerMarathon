{
 "cells": [
  {
   "cell_type": "markdown",
   "metadata": {},
   "source": [
    "# PTT 網路爬蟲實作練習\n",
    "\n",
    "\n",
    "* 能夠利用 Request + BeatifulSour 撰寫爬蟲，並存放到合適的資料結構\n"
   ]
  },
  {
   "cell_type": "markdown",
   "metadata": {},
   "source": [
    "## 作業目標\n",
    "\n",
    "根據範例 ，完成以下問題：\n",
    "* ① 印出最新文章的「作者」「標題」「時間」\n",
    "* ② 印出第一頁所有文章的「作者」「標題」「時間」\n",
    "\n",
    "流程：\n",
    "       1. 從首頁進入\n",
    "       2. 取得第一頁所有文章\n",
    "       3. 將第一頁所有文章爬下來\n",
    "       4-1. 篩選最新的文章\n",
    "       4-2. 將所有的作者、標題、時間存成json"
   ]
  },
  {
   "cell_type": "markdown",
   "metadata": {},
   "source": [
    "resp.text vs resp.content:\n",
    "1. resp.text返回的是Unicode型的数据->想取文本，可以通过r.text\n",
    "2. resp.content返回的是bytes型也就是二进制的数据。->想取图片，文件，则可以通过r.content。\n",
    "3. resp.json()返回的是json格式数据"
   ]
  },
  {
   "cell_type": "markdown",
   "metadata": {},
   "source": [
    "### ① 印出最新文章的「作者」「標題」「時間」"
   ]
  },
  {
   "cell_type": "code",
   "execution_count": 1,
   "metadata": {},
   "outputs": [],
   "source": [
    "import requests\n",
    "from bs4 import BeautifulSoup"
   ]
  },
  {
   "cell_type": "code",
   "execution_count": 2,
   "metadata": {},
   "outputs": [],
   "source": [
    "# get all data\n",
    "def get_data(url):\n",
    "    data = requests.get(url=url, cookies={'over18':'1'})\n",
    "    if data.status_code !=200:\n",
    "        print('Invalid url: ', url)\n",
    "        return None\n",
    "    else:\n",
    "        return data.text"
   ]
  },
  {
   "cell_type": "code",
   "execution_count": 20,
   "metadata": {},
   "outputs": [],
   "source": [
    "#filter the data\n",
    "def analysis_data(data, purpose):\n",
    "    soup= BeautifulSoup(data, 'html5lib')\n",
    "    articles = []\n",
    "    if purpose=='latest':\n",
    "        div_latest = soup.find('div', 'r-ent')\n",
    "        author=div_latest.find('div', 'author').text if div_latest.find('div', 'author') else \" \"\n",
    "        title = div_latest.find('a').text\n",
    "        date = div_latest.find('div', 'date').text\n",
    "        articles.append(\n",
    "        {\n",
    "            'author':author,\n",
    "            'title':title,\n",
    "            'date':date\n",
    "        })\n",
    "    elif purpose =='firstpage':\n",
    "        div_latest = soup.find_all('div', 'r-ent')\n",
    "        for d in div_latest:\n",
    "            author=d.find('div', 'author').text if d.find('div', 'author') else \" \"\n",
    "            title = d.find('a').text if d.find('a') else \"\"\n",
    "            date = d.find('div', 'date').text\n",
    "            articles.append(\n",
    "            {\n",
    "                'author':author,\n",
    "                'title':title,\n",
    "                'date':date\n",
    "            })\n",
    "    return articles"
   ]
  },
  {
   "cell_type": "code",
   "execution_count": 10,
   "metadata": {},
   "outputs": [],
   "source": [
    "url = 'https://www.ptt.cc/bbs/NBA/index.html'\n",
    "data = get_data(url)\n",
    "latest_article = analysis_data(data, 'latest')"
   ]
  },
  {
   "cell_type": "code",
   "execution_count": 11,
   "metadata": {},
   "outputs": [
    {
     "data": {
      "text/plain": [
       "[{'author': 'go190214', 'title': '[新聞] 為何不讓勇士禁區悍將上場？ 柯爾提出', 'date': '12/20'}]"
      ]
     },
     "execution_count": 11,
     "metadata": {},
     "output_type": "execute_result"
    }
   ],
   "source": [
    "latest_article"
   ]
  },
  {
   "cell_type": "markdown",
   "metadata": {},
   "source": [
    "### ② 印出第一頁所有文章的「作者」「標題」「時間」"
   ]
  },
  {
   "cell_type": "code",
   "execution_count": 21,
   "metadata": {},
   "outputs": [],
   "source": [
    "data = get_data(url)\n",
    "firstpage_article = analysis_data(data, 'firstpage')"
   ]
  },
  {
   "cell_type": "code",
   "execution_count": 22,
   "metadata": {},
   "outputs": [
    {
     "data": {
      "text/plain": [
       "[{'author': 'go190214', 'title': '[新聞] 為何不讓勇士禁區悍將上場？ 柯爾提出', 'date': '12/20'},\n",
       " {'author': '-', 'title': '', 'date': '12/20'},\n",
       " {'author': 'thnlkj0665',\n",
       "  'title': '[花邊] 賽前摸喬丹祈求好運 前公牛球員分享過往趣事',\n",
       "  'date': '12/20'},\n",
       " {'author': 'lovea', 'title': '[新聞] 對手抓己方延誤比賽 格林斥偷雞摸狗歪風', 'date': '12/20'},\n",
       " {'author': 'Rambo', 'title': '[情報] ★今日排名(2019.12.20)★', 'date': '12/20'},\n",
       " {'author': 'lvntrs59', 'title': '[新聞] 3兄弟聚首NBA 安戴托昆波有感而發', 'date': '12/20'},\n",
       " {'author': 'bbbyes123', 'title': '[情報] 字母哥和Doncic獲獎單月最佳球員', 'date': '12/20'},\n",
       " {'author': 'wade5566', 'title': '[討論] 未來是誰的 字母哥or東77？', 'date': '12/20'},\n",
       " {'author': 'asdf1256', 'title': '[新聞] 湖人戰績一飛衝天 魔術強森邀功策略奏效', 'date': '12/20'},\n",
       " {'author': 'DerLuna', 'title': '[討論] 熱火是不是沒有退休Wade的3號?', 'date': '12/20'},\n",
       " {'author': 'Gotham', 'title': '[新聞] 唐西奇恢復神速開始練投 將隨獨行俠赴客', 'date': '12/20'},\n",
       " {'author': 'GaGabull5566',\n",
       "  'title': 'Re: [情報] 快艇火箭互相看不順眼?Doc:是我跟我兒子',\n",
       "  'date': '12/21'},\n",
       " {'author': 'Acetoxy', 'title': '[討論] 今天湖人輸的關鍵到底是什麼？', 'date': '12/21'},\n",
       " {'author': 'VeryGoodBoy',\n",
       "  'title': '[外絮] Windhorst:鵜鶘在交易截止日前，可以給Ball',\n",
       "  'date': '12/21'},\n",
       " {'author': 'manuginobii',\n",
       "  'title': '[花邊] 公鹿球迷對鏡頭狂秀肌肉 殊不知主角並非',\n",
       "  'date': '12/21'},\n",
       " {'author': 'Vedan', 'title': '[公告] 板規v6.7', 'date': ' 5/24'},\n",
       " {'author': 'Vedan', 'title': '[公告] 樂透取消及未來不再開啟樂透', 'date': ' 6/24'},\n",
       " {'author': 'qazwsx879345', 'title': '[公告] 版主上任相關事項 ', 'date': '10/25'},\n",
       " {'author': 'JerroLi',\n",
       "  'title': '[情報] SEASON Schedule 賽程 December 19–20',\n",
       "  'date': '11/29'},\n",
       " {'author': 'dragon803', 'title': '[公告] 是否禁止記者鄭廷瑋文章投票開始', 'date': '12/16'}]"
      ]
     },
     "execution_count": 22,
     "metadata": {},
     "output_type": "execute_result"
    }
   ],
   "source": [
    "firstpage_article"
   ]
  },
  {
   "cell_type": "markdown",
   "metadata": {},
   "source": [
    "### ③ 試著爬爬看其他版的文章"
   ]
  },
  {
   "cell_type": "code",
   "execution_count": 26,
   "metadata": {},
   "outputs": [],
   "source": [
    "url = 'https://www.ptt.cc/bbs/Soft_Job'\n",
    "data_soft = get_data(url)\n",
    "latest_article_soft = analysis_data(data_soft, 'latest')\n",
    "firstpage_article_soft = analysis_data(data_soft, 'firstpage')"
   ]
  },
  {
   "cell_type": "code",
   "execution_count": 24,
   "metadata": {},
   "outputs": [
    {
     "data": {
      "text/plain": [
       "[{'author': 'VFCanisLupus', 'title': '[心得]11月~12月多家面試心得', 'date': '12/20'}]"
      ]
     },
     "execution_count": 24,
     "metadata": {},
     "output_type": "execute_result"
    }
   ],
   "source": [
    "latest_article_soft"
   ]
  },
  {
   "cell_type": "code",
   "execution_count": 27,
   "metadata": {},
   "outputs": [
    {
     "data": {
      "text/plain": [
       "[{'author': 'VFCanisLupus', 'title': '[心得]11月~12月多家面試心得', 'date': '12/20'},\n",
       " {'author': '-', 'title': '', 'date': '12/20'},\n",
       " {'author': '-', 'title': '', 'date': '12/20'},\n",
       " {'author': 'staycation',\n",
       "  'title': '[徵才] 台北小公司誠徵 iOS Developer',\n",
       "  'date': '12/20'},\n",
       " {'author': 'Uzak', 'title': 'Re: [請益] web前後端的選擇', 'date': '12/20'},\n",
       " {'author': 'wake', 'title': '[徵才] 正職 初階 PHP 後端工程師（全遠端）', 'date': '12/20'},\n",
       " {'author': 'MOONY135', 'title': '[公告] 本板板規  2017/4/10更新', 'date': ' 8/04'},\n",
       " {'author': 'MOONY135', 'title': '[公告] 徵才不符板規或徵才自刪公司', 'date': ' 8/04'},\n",
       " {'author': 'MOONY135', 'title': '[情報] 訓練課程與付費APP與網站分享', 'date': ' 8/04'},\n",
       " {'author': 'MOONY135', 'title': '[情報] 社群活動與免費APP與網站分享', 'date': ' 8/04'},\n",
       " {'author': 'MOONY135', 'title': 'Fw: [公告] 請使用安全的連線方式連線本站', 'date': '11/24'}]"
      ]
     },
     "execution_count": 27,
     "metadata": {},
     "output_type": "execute_result"
    }
   ],
   "source": [
    "firstpage_article_soft"
   ]
  },
  {
   "cell_type": "code",
   "execution_count": null,
   "metadata": {},
   "outputs": [],
   "source": []
  }
 ],
 "metadata": {
  "kernelspec": {
   "display_name": "Python 3",
   "language": "python",
   "name": "python3"
  },
  "language_info": {
   "codemirror_mode": {
    "name": "ipython",
    "version": 3
   },
   "file_extension": ".py",
   "mimetype": "text/x-python",
   "name": "python",
   "nbconvert_exporter": "python",
   "pygments_lexer": "ipython3",
   "version": "3.6.0"
  }
 },
 "nbformat": 4,
 "nbformat_minor": 2
}
