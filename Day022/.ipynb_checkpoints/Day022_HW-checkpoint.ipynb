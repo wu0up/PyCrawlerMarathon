{
 "cells": [
  {
   "cell_type": "markdown",
   "metadata": {},
   "source": [
    "# 空氣污染監測網 網路爬蟲實作練習\n",
    "\n",
    "\n",
    "* 能夠利用 selenium + BeautifulSoup 撰寫爬蟲，並存放到合適的資料結構\n"
   ]
  },
  {
   "cell_type": "markdown",
   "metadata": {},
   "source": [
    "## 作業目標\n",
    "\n",
    "根據範例 ，完成以下問題：\n",
    "\n",
    "* ① 取出 台北市士林區 2018/01 – 2018/08 的 SO2 資料\n",
    "* ② 取出 台北市士林區 2018/01 – 2018/08 的 SO2、CO 資料\n",
    "\n",
    "\n",
    "\n"
   ]
  },
  {
   "cell_type": "markdown",
   "metadata": {},
   "source": [
    "### ① 取出 台北市士林區 2018/01 – 2018/08 的 SO2 資料"
   ]
  },
  {
   "cell_type": "code",
   "execution_count": 1,
   "metadata": {},
   "outputs": [],
   "source": [
    "from selenium import webdriver\n",
    "from selenium.webdriver.support.ui import Select\n",
    "from bs4 import BeautifulSoup\n",
    "\n",
    "browser = webdriver.Chrome(executable_path='/Users/moira/PyCrawlerMarathon-/Day022/chromedriver')\n",
    "browser.get(\"http://taqm.epa.gov.tw/taqm/tw/MonthlyAverage.aspx\")\n",
    "\n",
    "selectSite = Select(browser.find_element_by_id(\"ctl05_ddlSite\"))\n",
    "selectSite.select_by_value('11')\n",
    "selectYear = Select(browser.find_element_by_id(\"ctl05_ddlYear\"))\n",
    "selectYear.select_by_value(\"2018\")\n",
    "\n",
    "browser.find_element_by_id('ctl05_btnQuery').click()"
   ]
  },
  {
   "cell_type": "code",
   "execution_count": 11,
   "metadata": {},
   "outputs": [
    {
     "name": "stdout",
     "output_type": "stream",
     "text": [
      "[<td class=\"no-alt\" rowspan=\"12\" style=\"white-space:nowrap;\" valign=\"top\">SO2</td>, <td class=\"no-alt\" rowspan=\"12\" valign=\"top\">ppb</td>, <td>2018/01</td>, <td>1.80</td>, <td> </td>, <td>2018/02</td>, <td>1.90</td>, <td> </td>, <td>2018/03</td>, <td>2.20</td>, <td> </td>, <td>2018/04</td>, <td>2.30</td>, <td> </td>, <td>2018/05</td>, <td>3.10</td>, <td> </td>, <td>2018/06</td>, <td>2.70</td>, <td> </td>, <td>2018/07</td>, <td>2.20</td>, <td> </td>, <td>2018/08</td>, <td>2.40</td>, <td> </td>, <td>2018/09</td>, <td>2.10</td>, <td> </td>, <td>2018/10</td>, <td>1.70</td>, <td> </td>, <td>2018/11</td>, <td>1.90</td>, <td> </td>, <td>2018/12</td>, <td>1.80</td>, <td> </td>, <td class=\"no-alt\" rowspan=\"12\" style=\"white-space:nowrap;\" valign=\"top\">CO</td>, <td class=\"no-alt\" rowspan=\"12\" valign=\"top\">ppm</td>, <td>2018/01</td>, <td>0.34</td>, <td> </td>, <td>2018/02</td>, <td>0.44</td>, <td> </td>, <td>2018/03</td>, <td>0.40</td>, <td> </td>, <td>2018/04</td>, <td>0.38</td>, <td> </td>, <td>2018/05</td>, <td>0.34</td>, <td> </td>, <td>2018/06</td>, <td>0.29</td>, <td> </td>, <td>2018/07</td>, <td>0.21</td>, <td> </td>, <td>2018/08</td>, <td>0.30</td>, <td> </td>, <td>2018/09</td>, <td>0.26</td>, <td> </td>, <td>2018/10</td>, <td>0.29</td>, <td> </td>, <td>2018/11</td>, <td>0.30</td>, <td> </td>, <td>2018/12</td>, <td>0.35</td>, <td> </td>, <td class=\"no-alt\" rowspan=\"12\" style=\"white-space:nowrap;\" valign=\"top\">O3</td>, <td class=\"no-alt\" rowspan=\"12\" valign=\"top\">ppb</td>, <td>2018/01</td>, <td>33.40</td>, <td> </td>, <td>2018/02</td>, <td>32.50</td>, <td> </td>, <td>2018/03</td>, <td>35</td>, <td> </td>, <td>2018/04</td>, <td>38.40</td>, <td> </td>, <td>2018/05</td>, <td>31.60</td>, <td> </td>, <td>2018/06</td>, <td>29.50</td>, <td> </td>, <td>2018/07</td>, <td>18.70</td>, <td> </td>, <td>2018/08</td>, <td>26.40</td>, <td> </td>, <td>2018/09</td>, <td>29.10</td>, <td> </td>, <td>2018/10</td>, <td>45.90</td>, <td> </td>, <td>2018/11</td>, <td>32.40</td>, <td> </td>, <td>2018/12</td>, <td>30.70</td>, <td> </td>, <td class=\"no-alt\" rowspan=\"12\" style=\"white-space:nowrap;\" valign=\"top\">PM10</td>, <td class=\"no-alt\" rowspan=\"12\" valign=\"top\">μg/m3</td>, <td>2018/01</td>, <td>23</td>, <td> </td>, <td>2018/02</td>, <td>41</td>, <td> </td>, <td>2018/03</td>, <td>39</td>, <td> </td>, <td>2018/04</td>, <td>48</td>, <td> </td>, <td>2018/05</td>, <td>37</td>, <td> </td>, <td>2018/06</td>, <td>26</td>, <td> </td>, <td>2018/07</td>, <td>24</td>, <td> </td>, <td>2018/08</td>, <td>26</td>, <td> </td>, <td>2018/09</td>, <td>28</td>, <td> </td>, <td>2018/10</td>, <td>33</td>, <td> </td>, <td>2018/11</td>, <td>25</td>, <td> </td>, <td>2018/12</td>, <td>21</td>, <td> </td>, <td class=\"no-alt\" rowspan=\"12\" style=\"white-space:nowrap;\" valign=\"top\">NOx</td>, <td class=\"no-alt\" rowspan=\"12\" valign=\"top\">ppb</td>, <td>2018/01</td>, <td>14.17</td>, <td> </td>, <td>2018/02</td>, <td>19.43</td>, <td> </td>, <td>2018/03</td>, <td>18.50</td>, <td> </td>, <td>2018/04</td>, <td>15.24</td>, <td> </td>, <td>2018/05</td>, <td>15.20</td>, <td> </td>, <td>2018/06</td>, <td>13.79</td>, <td> </td>, <td>2018/07</td>, <td>11.60</td>, <td> </td>, <td>2018/08</td>, <td>14.75</td>, <td> </td>, <td>2018/09</td>, <td>12.40</td>, <td> </td>, <td>2018/10</td>, <td>12.45</td>, <td> </td>, <td>2018/11</td>, <td>13.41</td>, <td> </td>, <td>2018/12</td>, <td>14.56</td>, <td> </td>, <td class=\"no-alt\" rowspan=\"12\" style=\"white-space:nowrap;\" valign=\"top\">NO</td>, <td class=\"no-alt\" rowspan=\"12\" valign=\"top\">ppb</td>, <td>2018/01</td>, <td>3.41</td>, <td> </td>, <td>2018/02</td>, <td>4.48</td>, <td> </td>, <td>2018/03</td>, <td>4.93</td>, <td> </td>, <td>2018/04</td>, <td>2.60</td>, <td> </td>, <td>2018/05</td>, <td>2.26</td>, <td> </td>, <td>2018/06</td>, <td>2.41</td>, <td> </td>, <td>2018/07</td>, <td>2.68</td>, <td> </td>, <td>2018/08</td>, <td>2.68</td>, <td> </td>, <td>2018/09</td>, <td>2.41</td>, <td> </td>, <td>2018/10</td>, <td>2.13</td>, <td> </td>, <td>2018/11</td>, <td>2.71</td>, <td> </td>, <td>2018/12</td>, <td>3.42</td>, <td> </td>, <td class=\"no-alt\" rowspan=\"12\" style=\"white-space:nowrap;\" valign=\"top\">NO2</td>, <td class=\"no-alt\" rowspan=\"12\" valign=\"top\">ppb</td>, <td>2018/01</td>, <td>10.77</td>, <td> </td>, <td>2018/02</td>, <td>14.95</td>, <td> </td>, <td>2018/03</td>, <td>13.56</td>, <td> </td>, <td>2018/04</td>, <td>12.64</td>, <td> </td>, <td>2018/05</td>, <td>12.94</td>, <td> </td>, <td>2018/06</td>, <td>11.38</td>, <td> </td>, <td>2018/07</td>, <td>8.92</td>, <td> </td>, <td>2018/08</td>, <td>12.08</td>, <td> </td>, <td>2018/09</td>, <td>10</td>, <td> </td>, <td>2018/10</td>, <td>10.33</td>, <td> </td>, <td>2018/11</td>, <td>10.71</td>, <td> </td>, <td>2018/12</td>, <td>11.15</td>, <td> </td>, <td class=\"no-alt\" rowspan=\"1\" style=\"white-space:nowrap;\" valign=\"top\">THC</td>, <td class=\"no-alt\" rowspan=\"1\" valign=\"top\">ppm</td>, <td> </td>, <td> </td>, <td>無此測項</td>, <td class=\"no-alt\" rowspan=\"1\" style=\"white-space:nowrap;\" valign=\"top\">NMHC</td>, <td class=\"no-alt\" rowspan=\"1\" valign=\"top\">ppm</td>, <td> </td>, <td> </td>, <td>無此測項</td>, <td style=\"white-space:nowrap;\">CH4</td>, <td>ppm</td>, <td> </td>, <td> </td>, <td>無此測項</td>]\n"
     ]
    }
   ],
   "source": [
    "html_source = browser.page_source\n",
    "\n",
    "soup = BeautifulSoup(html_source, 'html.parser')\n",
    "table_tag= soup.find('table', class_='TABLE_G').find_all('td')\n",
    "print(table_tag)"
   ]
  },
  {
   "cell_type": "code",
   "execution_count": 15,
   "metadata": {},
   "outputs": [
    {
     "data": {
      "text/plain": [
       "{'SO2': {'2018/01': '10.77',\n",
       "  '2018/02': '14.95',\n",
       "  '2018/03': '13.56',\n",
       "  '2018/04': '12.64',\n",
       "  '2018/05': '12.94',\n",
       "  '2018/06': '11.38',\n",
       "  '2018/07': '8.92',\n",
       "  '2018/08': '11.15'}}"
      ]
     },
     "execution_count": 15,
     "metadata": {},
     "output_type": "execute_result"
    }
   ],
   "source": [
    "import re\n",
    "data_dict = {}\n",
    "# table_tag = table.find_all('td')\n",
    "for ele in table_tag:\n",
    "    pattern='(\\d{4})/(0[1-8])'\n",
    "    if 'SO2' in ele.text:  #使用if->抓出factor, 再else->再下一層處理date和value; 使用\"ele.attrs\"\n",
    "        name = ele.text\n",
    "        data_dict[name]={}  #這樣的結構就可以把name當key了？！\n",
    "    else:\n",
    "        if re.compile(pattern).match(ele.text): #找字串裡有沒有正則表達式要用re.compile().match(string)\n",
    "            date = ele.text\n",
    "            data_dict[name][date]={}  #這樣就可以建立第二層的dictionary, 且有key!?\n",
    "        elif re.compile('\\d+').match(ele.text):\n",
    "            value = ele.text\n",
    "            data_dict[name][date]=value\n",
    "data_dict"
   ]
  },
  {
   "cell_type": "markdown",
   "metadata": {},
   "source": [
    "### ② 取出 台北市士林區 2018/01 – 2018/08 的 SO2、CO 資料"
   ]
  },
  {
   "cell_type": "code",
   "execution_count": 16,
   "metadata": {},
   "outputs": [
    {
     "data": {
      "text/plain": [
       "{'SO2': {'2018/01': '1.80',\n",
       "  '2018/02': '1.90',\n",
       "  '2018/03': '2.20',\n",
       "  '2018/04': '2.30',\n",
       "  '2018/05': '3.10',\n",
       "  '2018/06': '2.70',\n",
       "  '2018/07': '2.20',\n",
       "  '2018/08': '1.80'},\n",
       " 'CO': {'2018/01': '10.77',\n",
       "  '2018/02': '14.95',\n",
       "  '2018/03': '13.56',\n",
       "  '2018/04': '12.64',\n",
       "  '2018/05': '12.94',\n",
       "  '2018/06': '11.38',\n",
       "  '2018/07': '8.92',\n",
       "  '2018/08': '11.15'}}"
      ]
     },
     "execution_count": 16,
     "metadata": {},
     "output_type": "execute_result"
    }
   ],
   "source": [
    "data_dict = {}\n",
    "# table_tag = table.find_all('td')\n",
    "for ele in table_tag:\n",
    "    pattern='(\\d{4})/(0[1-8])'\n",
    "    if 'SO2' in ele.text or 'CO' in ele.text:  #使用if->抓出factor, 再else->再下一層處理date和value; 使用\"ele.attrs\"\n",
    "        name = ele.text\n",
    "        data_dict[name]={}  #這樣的結構就可以把name當key了？！\n",
    "    else:\n",
    "        if re.compile(pattern).match(ele.text): #找字串裡有沒有正則表達式要用re.compile().match(string)\n",
    "            date = ele.text\n",
    "            data_dict[name][date]={}  #這樣就可以建立第二層的dictionary, 且有key!?\n",
    "        elif re.compile('\\d+').match(ele.text):\n",
    "            value = ele.text\n",
    "            data_dict[name][date]=value\n",
    "data_dict"
   ]
  },
  {
   "cell_type": "code",
   "execution_count": 17,
   "metadata": {},
   "outputs": [],
   "source": [
    "browser.quit();"
   ]
  },
  {
   "cell_type": "code",
   "execution_count": null,
   "metadata": {},
   "outputs": [],
   "source": []
  }
 ],
 "metadata": {
  "kernelspec": {
   "display_name": "Python 3",
   "language": "python",
   "name": "python3"
  },
  "language_info": {
   "codemirror_mode": {
    "name": "ipython",
    "version": 3
   },
   "file_extension": ".py",
   "mimetype": "text/x-python",
   "name": "python",
   "nbconvert_exporter": "python",
   "pygments_lexer": "ipython3",
   "version": "3.6.0"
  }
 },
 "nbformat": 4,
 "nbformat_minor": 2
}
