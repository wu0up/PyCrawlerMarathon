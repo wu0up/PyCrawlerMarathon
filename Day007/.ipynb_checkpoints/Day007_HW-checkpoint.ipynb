{
 "cells": [
  {
   "cell_type": "markdown",
   "metadata": {},
   "source": [
    "# HTTP 靜態網頁架構說明\n",
    "\n",
    "* 認識靜態網頁的溝通架構與運作原理\n",
    "* HTML、CSS、JavaScript 在網頁中扮演的角色\n",
    "* 網頁中定位資料的方法"
   ]
  },
  {
   "cell_type": "markdown",
   "metadata": {},
   "source": [
    "## 作業目標\n",
    "\n",
    "1. （簡答題）請問目前提到的這種基於 HTTP 一來一回的網頁傳輸方式，有哪些缺點及問題？\n",
    "2. （簡答題）網頁中使用的 JavaScipt 程式語言，跟我們一般使用的 Python 在執行上有什麼不同。\n"
   ]
  },
  {
   "cell_type": "markdown",
   "metadata": {},
   "source": [
    "### 1.（簡答題）請問目前提到的這種基於 HTTP 一來一回的網頁傳輸方式，有哪些缺點及問題？"
   ]
  },
  {
   "cell_type": "markdown",
   "metadata": {},
   "source": [
    "1. HTTP本質上造成的延遲：因HTTP底層協議是TCP，單一個TCP只能同時間處理一個檔案，且在伺服器端處理請求的時候，TCP是處於閒置狀態；因此，瀏覽器通常會建立多個連線\n",
    "2. 傳輸效率不佳：一旦完成傳輸後，就會切斷TCP連線，之後倘若要請求另一個檔案，又必須重新建立一個全新的TCP連線，這使得每次都需要反覆不斷花費高昂的代價，在建立 TCP 連線之上，但每個TCP連線，卻又可能只傳輸少許的資料，就又被切斷了。\n",
    "3. 會產生很多短命的TCP連線:同時間多個TCP連線並行傳輸的情況，也可能讓 TCP 演算法在做流量及擁塞控制時的估算失準，造成了無法在 TCP 之上進行高效傳輸的結果。\n",
    "\n",
    "Reference: https://www.ithome.com.tw/voice/94371"
   ]
  },
  {
   "cell_type": "markdown",
   "metadata": {},
   "source": [
    "### 2. （簡答題）網頁中使用的 JavaScipt 程式語言，跟我們一般使用的 Python 在執行上有什麼不同。"
   ]
  },
  {
   "cell_type": "markdown",
   "metadata": {},
   "source": [
    "|  差別  | JavaScript  | Python |\n",
    "|  ----  | ----  |----  |\n",
    "| 多線程模型  | 無 | 有 |\n",
    "| 創建新對象  | 需在對象前新增NEW | 可直接創建 |\n",
    "| 不可改變類型 | 無 | 有 |\n",
    "| 編碼 | 使用UTF16 | 使用ASCII |"
   ]
  },
  {
   "cell_type": "code",
   "execution_count": null,
   "metadata": {},
   "outputs": [],
   "source": []
  }
 ],
 "metadata": {
  "kernelspec": {
   "display_name": "Python 3",
   "language": "python",
   "name": "python3"
  },
  "language_info": {
   "codemirror_mode": {
    "name": "ipython",
    "version": 3
   },
   "file_extension": ".py",
   "mimetype": "text/x-python",
   "name": "python",
   "nbconvert_exporter": "python",
   "pygments_lexer": "ipython3",
   "version": "3.6.0"
  }
 },
 "nbformat": 4,
 "nbformat_minor": 2
}
